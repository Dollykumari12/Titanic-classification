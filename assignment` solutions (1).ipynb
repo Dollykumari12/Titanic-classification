{
 "cells": [
  {
   "attachments": {},
   "cell_type": "markdown",
   "id": "f03e175e",
   "metadata": {},
   "source": [
    "# Question 1\n",
    "\n"
   ]
  },
  {
   "cell_type": "code",
   "execution_count": 1,
   "id": "4565ba43",
   "metadata": {},
   "outputs": [
    {
     "name": "stdout",
     "output_type": "stream",
     "text": [
      "Enter a string: dad\n",
      "The string is a palindrome.\n"
     ]
    }
   ],
   "source": [
    "def is_palindrome(string):\n",
    "    # Convert the string to lowercase and remove non-alphabetic characters\n",
    "    cleaned_string = ''.join(c.lower() for c in string if c.isalpha())\n",
    "\n",
    "    # Compare the cleaned string with its reverse\n",
    "    return cleaned_string == cleaned_string[::-1]\n",
    "\n",
    "# Example usage\n",
    "string = input(\"Enter a string: \")\n",
    "if is_palindrome(string):\n",
    "    print(\"The string is a palindrome.\")\n",
    "else:\n",
    "    print(\"The string is not a palindrome.\")"
   ]
  },
  {
   "attachments": {},
   "cell_type": "markdown",
   "id": "7cb9ffcd",
   "metadata": {},
   "source": [
    "# Question 2"
   ]
  },
  {
   "cell_type": "code",
   "execution_count": 4,
   "id": "93d6a89e",
   "metadata": {},
   "outputs": [
    {
     "name": "stdout",
     "output_type": "stream",
     "text": [
      "Enter the original string: abcdcdc\n",
      "Enter the substring: cd\n",
      "Number of occurrences: 2\n"
     ]
    }
   ],
   "source": [
    "def count_substring(string, substring):\n",
    "    count = 0\n",
    "    substring_length = len(substring)\n",
    "    for i in range(len(string)):\n",
    "        if string[i:i+substring_length] == substring:\n",
    "            count += 1\n",
    "    return count\n",
    "\n",
    "# Get the input from the user\n",
    "string = input(\"Enter the original string: \")\n",
    "substring = input(\"Enter the substring: \")\n",
    "\n",
    "# Count the occurrences of the substring in the string\n",
    "occurrences = count_substring(string, substring)\n",
    "\n",
    "# Print the result\n",
    "print(\"Number of occurrences:\", occurrences)\n"
   ]
  },
  {
   "attachments": {},
   "cell_type": "markdown",
   "id": "5e7916de",
   "metadata": {},
   "source": [
    "# Question 3\n"
   ]
  },
  {
   "cell_type": "code",
   "execution_count": null,
   "id": "dec6aaf7",
   "metadata": {},
   "outputs": [
    {
     "name": "stdout",
     "output_type": "stream",
     "text": [
      "Player 1, enter your move (R/P/S): r\n",
      "Player 2, enter your move (R/P/S): p\n",
      "Game 1 : Player 1 = R , Player 2 = P , Winner: Player2\n",
      "Player 1, enter your move (R/P/S): p\n",
      "Player 2, enter your move (R/P/S): r\n",
      "Game 2 : Player 1 = P , Player 2 = R , Winner: Player1\n",
      "Player 1, enter your move (R/P/S): r\n",
      "Player 2, enter your move (R/P/S): r\n",
      "Game 3 : Player 1 = R , Player 2 = R , Winner: Draw\n",
      "Player 1, enter your move (R/P/S): p\n",
      "Player 2, enter your move (R/P/S): p\n",
      "Game 4 : Player 1 = P , Player 2 = P , Winner: Draw\n"
     ]
    }
   ],
   "source": [
    "# Function to determine the winner between two moves\n",
    "def determine_winner(player1_move, player2_move):\n",
    "    if player1_move == player2_move:\n",
    "        return \"Draw\"\n",
    "    \n",
    "    if (player1_move == 'R' and player2_move == 'S') or (player1_move == 'S' and player2_move == 'P') or (player1_move == 'P' and player2_move == 'R'):\n",
    "        return \"Player1\"\n",
    "    \n",
    "    return \"Player2\"\n",
    "\n",
    "# Play the game for 10 rounds\n",
    "rounds = 10\n",
    "player1_wins = 0\n",
    "player2_wins = 0\n",
    "\n",
    "for i in range(rounds):\n",
    "    player1_move = input(\"Player 1, enter your move (R/P/S): \").upper()\n",
    "    player2_move = input(\"Player 2, enter your move (R/P/S): \").upper()\n",
    "\n",
    "    winner = determine_winner(player1_move, player2_move)\n",
    "\n",
    "    if winner == \"Player1\":\n",
    "        player1_wins += 1\n",
    "    elif winner == \"Player2\":\n",
    "        player2_wins += 1\n",
    "\n",
    "    print(\"Game\", i+1, \": Player 1 =\", player1_move, \", Player 2 =\", player2_move, \", Winner:\", winner)\n",
    "\n",
    "# Determine the final winner\n",
    "if player1_wins > player2_wins:\n",
    "    print(\"Final Winner: Player1\")\n",
    "elif player1_wins < player2_wins:\n",
    "    print(\"Final Winner: Player2\")\n",
    "else:\n",
    "    print(\"Final Result: Draw\")"
   ]
  },
  {
   "attachments": {},
   "cell_type": "markdown",
   "id": "e1f35053",
   "metadata": {},
   "source": [
    "# Question 4"
   ]
  },
  {
   "cell_type": "code",
   "execution_count": 1,
   "id": "dade9ade",
   "metadata": {},
   "outputs": [
    {
     "name": "stdout",
     "output_type": "stream",
     "text": [
      "{'time': {'updated': 'Jun 16, 2023 16:07:00 UTC', 'updatedISO': '2023-06-16T16:07:00+00:00', 'updateduk': 'Jun 16, 2023 at 17:07 BST'}, 'disclaimer': 'This data was produced from the CoinDesk Bitcoin Price Index (USD). Non-USD currency data converted using hourly conversion rate from openexchangerates.org', 'chartName': 'Bitcoin', 'bpi': {'USD': {'code': 'USD', 'symbol': '&#36;', 'rate': '25,794.8937', 'description': 'United States Dollar', 'rate_float': 25794.8937}, 'GBP': {'code': 'GBP', 'symbol': '&pound;', 'rate': '21,554.0068', 'description': 'British Pound Sterling', 'rate_float': 21554.0068}, 'EUR': {'code': 'EUR', 'symbol': '&euro;', 'rate': '25,127.9925', 'description': 'Euro', 'rate_float': 25127.9925}}}\n"
     ]
    }
   ],
   "source": [
    "# import urllib library\n",
    "from urllib.request import urlopen\n",
    "  \n",
    "# import json\n",
    "import json\n",
    "# store the URL in url as \n",
    "# parameter for urlopen\n",
    "url = \"https://api.coindesk.com/v1/bpi/currentprice.json\"\n",
    "  \n",
    "# store the response of URL\n",
    "response = urlopen(url)\n",
    "  \n",
    "# storing the JSON response \n",
    "# from url in data\n",
    "data_json = json.loads(response.read())\n",
    "  \n",
    "# print the json response\n",
    "print(data_json)"
   ]
  },
  {
   "cell_type": "code",
   "execution_count": null,
   "id": "19ce95ba",
   "metadata": {},
   "outputs": [],
   "source": []
  }
 ],
 "metadata": {
  "kernelspec": {
   "display_name": "Python 3 (ipykernel)",
   "language": "python",
   "name": "python3"
  },
  "language_info": {
   "codemirror_mode": {
    "name": "ipython",
    "version": 3
   },
   "file_extension": ".py",
   "mimetype": "text/x-python",
   "name": "python",
   "nbconvert_exporter": "python",
   "pygments_lexer": "ipython3",
   "version": "3.9.13"
  }
 },
 "nbformat": 4,
 "nbformat_minor": 5
}
